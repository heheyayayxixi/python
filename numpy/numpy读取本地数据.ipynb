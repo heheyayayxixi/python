{
 "cells": [
  {
   "cell_type": "code",
   "execution_count": 9,
   "id": "a62066eb",
   "metadata": {},
   "outputs": [],
   "source": [
    "import numpy as np"
   ]
  },
  {
   "cell_type": "code",
   "execution_count": 30,
   "id": "a178698e",
   "metadata": {},
   "outputs": [
    {
     "name": "stdout",
     "output_type": "stream",
     "text": [
      "[[4394029  320053    5931   46245]\n",
      " [7860119  185853   26679       0]\n",
      " [5845909  576597   39774  170708]\n",
      " ...\n",
      " [ 142463    4231     148     279]\n",
      " [2162240   41032    1384    4737]\n",
      " [ 515000   34727     195    4722]]\n"
     ]
    }
   ],
   "source": [
    "#读取文件\n",
    "file_path=\"./US_video_data_numbers.csv\"\n",
    "\n",
    "t1=np.loadtxt(file_path,delimiter=\",\",dtype=\"int\")\n",
    "print(t1)"
   ]
  },
  {
   "cell_type": "code",
   "execution_count": 31,
   "id": "c23f7a16",
   "metadata": {},
   "outputs": [
    {
     "name": "stdout",
     "output_type": "stream",
     "text": [
      "[[ 0  1  2  3  4  5]\n",
      " [ 6  7  8  9 10 11]\n",
      " [12 13 14 15 16 17]\n",
      " [18 19 20 21 22 23]]\n",
      "[[ 0  6 12 18]\n",
      " [ 1  7 13 19]\n",
      " [ 2  8 14 20]\n",
      " [ 3  9 15 21]\n",
      " [ 4 10 16 22]\n",
      " [ 5 11 17 23]]\n"
     ]
    }
   ],
   "source": [
    "#numpy中的转置\n",
    "t2=np.arange(24).reshape(4,6)\n",
    "print(t2)\n",
    "print(t2.T)\n",
    "#t2.transpose()\n",
    "#t2.swapaxes(1,0)"
   ]
  },
  {
   "cell_type": "code",
   "execution_count": 32,
   "id": "375caaac",
   "metadata": {},
   "outputs": [
    {
     "name": "stdout",
     "output_type": "stream",
     "text": [
      "[12 13 14 15 16 17]\n",
      "[ 0  6 12 18]\n"
     ]
    }
   ],
   "source": [
    "#取行 包括取连续的t2[2:]和不连续的t2[[0,2]]\n",
    "print(t2[2])\n",
    "\n",
    "#取列\n",
    "print(t2[:,0])"
   ]
  },
  {
   "cell_type": "code",
   "execution_count": 34,
   "id": "a53ca46d",
   "metadata": {},
   "outputs": [
    {
     "name": "stdout",
     "output_type": "stream",
     "text": [
      "[[ 0  1  2  3  4  5]\n",
      " [ 6  7  8  9 10 11]\n",
      " [12 13 14 15 16 17]\n",
      " [18 19 20 21 22 23]]\n",
      "[[0 0 0 0 0 0]\n",
      " [0 0 0 0 1 1]\n",
      " [1 1 1 1 1 1]\n",
      " [1 1 1 1 1 1]]\n"
     ]
    }
   ],
   "source": [
    "#三元运算符\n",
    "t=np.arange(24).reshape((4,6))\n",
    "print(t)\n",
    "\n",
    "t1=np.where(t<10,0,1)\n",
    "print(t1)"
   ]
  },
  {
   "cell_type": "code",
   "execution_count": null,
   "id": "942b52e8",
   "metadata": {},
   "outputs": [],
   "source": [
    "\n"
   ]
  }
 ],
 "metadata": {
  "kernelspec": {
   "display_name": "Python 3 (ipykernel)",
   "language": "python",
   "name": "python3"
  },
  "language_info": {
   "codemirror_mode": {
    "name": "ipython",
    "version": 3
   },
   "file_extension": ".py",
   "mimetype": "text/x-python",
   "name": "python",
   "nbconvert_exporter": "python",
   "pygments_lexer": "ipython3",
   "version": "3.9.7"
  }
 },
 "nbformat": 4,
 "nbformat_minor": 5
}
