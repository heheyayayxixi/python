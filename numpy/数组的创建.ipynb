{
 "cells": [
  {
   "cell_type": "code",
   "execution_count": 13,
   "id": "772b3fb3",
   "metadata": {},
   "outputs": [],
   "source": [
    "import numpy as np\n",
    "import random"
   ]
  },
  {
   "cell_type": "code",
   "execution_count": 14,
   "id": "3f179c94",
   "metadata": {},
   "outputs": [
    {
     "name": "stdout",
     "output_type": "stream",
     "text": [
      "[1 2 3]\n",
      "<class 'numpy.ndarray'>\n",
      "[0 1 2]\n",
      "<class 'numpy.ndarray'>\n",
      "[0 1 2]\n",
      "<class 'numpy.ndarray'>\n"
     ]
    }
   ],
   "source": [
    "#三种创建方法\n",
    "t1 = np.array([1,2,3])\n",
    "print(t1)\n",
    "print(type(t1))\n",
    "\n",
    "t2=np.array(range(3))\n",
    "print(t2)\n",
    "print(type(t2))\n",
    "\n",
    "t3=np.arange(3)\n",
    "print(t3)\n",
    "print(type(t3))\n"
   ]
  },
  {
   "cell_type": "code",
   "execution_count": 18,
   "id": "b2c5cf97",
   "metadata": {},
   "outputs": [
    {
     "name": "stdout",
     "output_type": "stream",
     "text": [
      "[1. 2. 3.]\n",
      "float64\n",
      "[ True False False  True False]\n",
      "bool\n",
      "int8\n",
      "[0.23380258 0.94542137 0.42916329 0.95836449 0.09721448 0.36983881\n",
      " 0.65942792 0.48230406 0.94893093 0.23922105]\n",
      "[0.23 0.95 0.43 0.96 0.1  0.37 0.66 0.48 0.95 0.24]\n"
     ]
    }
   ],
   "source": [
    "#数据类型\n",
    "t4=np.array(range(1,4),dtype=float)\n",
    "print(t4)\n",
    "print(t4.dtype)\n",
    "\n",
    "t5=np.array([1,0,0,1,0],dtype=bool)\n",
    "print(t5)\n",
    "print(t5.dtype)\n",
    "\n",
    "#调整数据类型\n",
    "t6=t5.astype(\"int8\")\n",
    "print(t6.dtype)\n",
    "\n",
    "#numpy中的小数\n",
    "t7=np.array([random.random() for i in range(10)])\n",
    "print(t7)\n",
    "\n",
    "#保留小数位数\n",
    "t8=np.round(t7,2)\n",
    "print(t8)"
   ]
  },
  {
   "cell_type": "code",
   "execution_count": null,
   "id": "42457446",
   "metadata": {},
   "outputs": [],
   "source": []
  }
 ],
 "metadata": {
  "kernelspec": {
   "display_name": "Python 3 (ipykernel)",
   "language": "python",
   "name": "python3"
  },
  "language_info": {
   "codemirror_mode": {
    "name": "ipython",
    "version": 3
   },
   "file_extension": ".py",
   "mimetype": "text/x-python",
   "name": "python",
   "nbconvert_exporter": "python",
   "pygments_lexer": "ipython3",
   "version": "3.9.7"
  }
 },
 "nbformat": 4,
 "nbformat_minor": 5
}
